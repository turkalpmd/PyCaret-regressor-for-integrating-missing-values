{
 "cells": [
  {
   "cell_type": "code",
   "execution_count": 1,
   "id": "0abd9aee",
   "metadata": {
    "_cell_guid": "b1076dfc-b9ad-4769-8c92-a6c4dae69d19",
    "_uuid": "8f2839f25d086af736a60e9eeb907d3b93b6e0e5",
    "execution": {
     "iopub.execute_input": "2022-07-16T10:08:36.567321Z",
     "iopub.status.busy": "2022-07-16T10:08:36.566353Z",
     "iopub.status.idle": "2022-07-16T10:08:36.591055Z",
     "shell.execute_reply": "2022-07-16T10:08:36.590205Z"
    },
    "papermill": {
     "duration": 0.045316,
     "end_time": "2022-07-16T10:08:36.593755",
     "exception": false,
     "start_time": "2022-07-16T10:08:36.548439",
     "status": "completed"
    },
    "tags": []
   },
   "outputs": [
    {
     "name": "stdout",
     "output_type": "stream",
     "text": [
      "/kaggle/input/stroke-prediction-dataset/healthcare-dataset-stroke-data.csv\n",
      "/kaggle/input/full-filled-brain-stroke-dataset/full_data.csv\n",
      "/kaggle/input/full-filled-brain-stroke-dataset/full_filled_stroke_data (1).csv\n"
     ]
    }
   ],
   "source": [
    "# This Python 3 environment comes with many helpful analytics libraries installed\n",
    "# It is defined by the kaggle/python Docker image: https://github.com/kaggle/docker-python\n",
    "# For example, here's several helpful packages to load\n",
    "\n",
    "import numpy as np # linear algebra\n",
    "import pandas as pd # data processing, CSV file I/O (e.g. pd.read_csv)\n",
    "\n",
    "# Input data files are available in the read-only \"../input/\" directory\n",
    "# For example, running this (by clicking run or pressing Shift+Enter) will list all files under the input directory\n",
    "\n",
    "import os\n",
    "for dirname, _, filenames in os.walk('/kaggle/input'):\n",
    "    for filename in filenames:\n",
    "        print(os.path.join(dirname, filename))\n",
    "\n",
    "# You can write up to 20GB to the current directory (/kaggle/working/) that gets preserved as output when you create a version using \"Save & Run All\" \n",
    "# You can also write temporary files to /kaggle/temp/, but they won't be saved outside of the current session"
   ]
  },
  {
   "cell_type": "code",
   "execution_count": 2,
   "id": "c557b68d",
   "metadata": {
    "execution": {
     "iopub.execute_input": "2022-07-16T10:08:36.614574Z",
     "iopub.status.busy": "2022-07-16T10:08:36.614159Z",
     "iopub.status.idle": "2022-07-16T10:08:37.943794Z",
     "shell.execute_reply": "2022-07-16T10:08:37.942733Z"
    },
    "papermill": {
     "duration": 1.343083,
     "end_time": "2022-07-16T10:08:37.946589",
     "exception": false,
     "start_time": "2022-07-16T10:08:36.603506",
     "status": "completed"
    },
    "tags": []
   },
   "outputs": [],
   "source": [
    "import numpy as np\n",
    "import pandas as pd\n",
    "import matplotlib.pyplot as plt;\n",
    "import seaborn as sns\n",
    "import warnings\n",
    "warnings.filterwarnings(\"ignore\")\n",
    "from sklearn.preprocessing import StandardScaler,MinMaxScaler,PowerTransformer, RobustScaler\n",
    "from sklearn.model_selection import train_test_split\n",
    "from sklearn.model_selection import cross_val_score\n",
    "from sklearn.model_selection import RepeatedKFold\n",
    "from sklearn.metrics import r2_score, mean_squared_error"
   ]
  },
  {
   "cell_type": "markdown",
   "id": "ac2ca77b",
   "metadata": {
    "papermill": {
     "duration": 0.00902,
     "end_time": "2022-07-16T10:08:37.965668",
     "exception": false,
     "start_time": "2022-07-16T10:08:37.956648",
     "status": "completed"
    },
    "tags": []
   },
   "source": [
    "## Today I will implement very obsessively handlig to missing values.\n",
    "![](https://www.indiewire.com/wp-content/uploads/2018/03/stanley-kubricks-the-shining-at-universals-halloween-horror-nights-2017.jpg)"
   ]
  },
  {
   "cell_type": "code",
   "execution_count": 3,
   "id": "0a6ea0b4",
   "metadata": {
    "execution": {
     "iopub.execute_input": "2022-07-16T10:08:37.987168Z",
     "iopub.status.busy": "2022-07-16T10:08:37.986561Z",
     "iopub.status.idle": "2022-07-16T10:08:38.038471Z",
     "shell.execute_reply": "2022-07-16T10:08:38.037350Z"
    },
    "papermill": {
     "duration": 0.065784,
     "end_time": "2022-07-16T10:08:38.040741",
     "exception": false,
     "start_time": "2022-07-16T10:08:37.974957",
     "status": "completed"
    },
    "tags": []
   },
   "outputs": [
    {
     "data": {
      "text/html": [
       "<div>\n",
       "<style scoped>\n",
       "    .dataframe tbody tr th:only-of-type {\n",
       "        vertical-align: middle;\n",
       "    }\n",
       "\n",
       "    .dataframe tbody tr th {\n",
       "        vertical-align: top;\n",
       "    }\n",
       "\n",
       "    .dataframe thead th {\n",
       "        text-align: right;\n",
       "    }\n",
       "</style>\n",
       "<table border=\"1\" class=\"dataframe\">\n",
       "  <thead>\n",
       "    <tr style=\"text-align: right;\">\n",
       "      <th></th>\n",
       "      <th>gender</th>\n",
       "      <th>age</th>\n",
       "      <th>hypertension</th>\n",
       "      <th>heart_disease</th>\n",
       "      <th>ever_married</th>\n",
       "      <th>work_type</th>\n",
       "      <th>Residence_type</th>\n",
       "      <th>avg_glucose_level</th>\n",
       "      <th>bmi</th>\n",
       "      <th>smoking_status</th>\n",
       "      <th>stroke</th>\n",
       "    </tr>\n",
       "  </thead>\n",
       "  <tbody>\n",
       "    <tr>\n",
       "      <th>0</th>\n",
       "      <td>Male</td>\n",
       "      <td>67.0</td>\n",
       "      <td>0</td>\n",
       "      <td>1</td>\n",
       "      <td>Yes</td>\n",
       "      <td>Private</td>\n",
       "      <td>Urban</td>\n",
       "      <td>228.69</td>\n",
       "      <td>36.6</td>\n",
       "      <td>formerly smoked</td>\n",
       "      <td>1</td>\n",
       "    </tr>\n",
       "    <tr>\n",
       "      <th>1</th>\n",
       "      <td>Female</td>\n",
       "      <td>61.0</td>\n",
       "      <td>0</td>\n",
       "      <td>0</td>\n",
       "      <td>Yes</td>\n",
       "      <td>Self-employed</td>\n",
       "      <td>Rural</td>\n",
       "      <td>202.21</td>\n",
       "      <td>NaN</td>\n",
       "      <td>never smoked</td>\n",
       "      <td>1</td>\n",
       "    </tr>\n",
       "    <tr>\n",
       "      <th>2</th>\n",
       "      <td>Male</td>\n",
       "      <td>80.0</td>\n",
       "      <td>0</td>\n",
       "      <td>1</td>\n",
       "      <td>Yes</td>\n",
       "      <td>Private</td>\n",
       "      <td>Rural</td>\n",
       "      <td>105.92</td>\n",
       "      <td>32.5</td>\n",
       "      <td>never smoked</td>\n",
       "      <td>1</td>\n",
       "    </tr>\n",
       "    <tr>\n",
       "      <th>3</th>\n",
       "      <td>Female</td>\n",
       "      <td>49.0</td>\n",
       "      <td>0</td>\n",
       "      <td>0</td>\n",
       "      <td>Yes</td>\n",
       "      <td>Private</td>\n",
       "      <td>Urban</td>\n",
       "      <td>171.23</td>\n",
       "      <td>34.4</td>\n",
       "      <td>smokes</td>\n",
       "      <td>1</td>\n",
       "    </tr>\n",
       "    <tr>\n",
       "      <th>4</th>\n",
       "      <td>Female</td>\n",
       "      <td>79.0</td>\n",
       "      <td>1</td>\n",
       "      <td>0</td>\n",
       "      <td>Yes</td>\n",
       "      <td>Self-employed</td>\n",
       "      <td>Rural</td>\n",
       "      <td>174.12</td>\n",
       "      <td>24.0</td>\n",
       "      <td>never smoked</td>\n",
       "      <td>1</td>\n",
       "    </tr>\n",
       "  </tbody>\n",
       "</table>\n",
       "</div>"
      ],
      "text/plain": [
       "   gender   age  hypertension  heart_disease ever_married      work_type  \\\n",
       "0    Male  67.0             0              1          Yes        Private   \n",
       "1  Female  61.0             0              0          Yes  Self-employed   \n",
       "2    Male  80.0             0              1          Yes        Private   \n",
       "3  Female  49.0             0              0          Yes        Private   \n",
       "4  Female  79.0             1              0          Yes  Self-employed   \n",
       "\n",
       "  Residence_type  avg_glucose_level   bmi   smoking_status  stroke  \n",
       "0          Urban             228.69  36.6  formerly smoked       1  \n",
       "1          Rural             202.21   NaN     never smoked       1  \n",
       "2          Rural             105.92  32.5     never smoked       1  \n",
       "3          Urban             171.23  34.4           smokes       1  \n",
       "4          Rural             174.12  24.0     never smoked       1  "
      ]
     },
     "execution_count": 3,
     "metadata": {},
     "output_type": "execute_result"
    }
   ],
   "source": [
    "df=pd.read_csv(\"../input/stroke-prediction-dataset/healthcare-dataset-stroke-data.csv\")\n",
    "# id column is just unique values drop it\n",
    "df.drop(columns=\"id\",inplace=True)\n",
    "df.head()"
   ]
  },
  {
   "cell_type": "code",
   "execution_count": 4,
   "id": "b50a73ea",
   "metadata": {
    "execution": {
     "iopub.execute_input": "2022-07-16T10:08:38.062702Z",
     "iopub.status.busy": "2022-07-16T10:08:38.061987Z",
     "iopub.status.idle": "2022-07-16T10:08:38.071926Z",
     "shell.execute_reply": "2022-07-16T10:08:38.071121Z"
    },
    "papermill": {
     "duration": 0.023526,
     "end_time": "2022-07-16T10:08:38.073851",
     "exception": false,
     "start_time": "2022-07-16T10:08:38.050325",
     "status": "completed"
    },
    "tags": []
   },
   "outputs": [
    {
     "data": {
      "text/plain": [
       "gender                 0\n",
       "age                    0\n",
       "hypertension           0\n",
       "heart_disease          0\n",
       "ever_married           0\n",
       "work_type              0\n",
       "Residence_type         0\n",
       "avg_glucose_level      0\n",
       "bmi                  201\n",
       "smoking_status         0\n",
       "stroke                 0\n",
       "dtype: int64"
      ]
     },
     "execution_count": 4,
     "metadata": {},
     "output_type": "execute_result"
    }
   ],
   "source": [
    "df.isna().sum()"
   ]
  },
  {
   "cell_type": "markdown",
   "id": "54c10928",
   "metadata": {
    "papermill": {
     "duration": 0.009404,
     "end_time": "2022-07-16T10:08:38.092595",
     "exception": false,
     "start_time": "2022-07-16T10:08:38.083191",
     "status": "completed"
    },
    "tags": []
   },
   "source": [
    "Here we have 201 missed bmi values. (3.93%)"
   ]
  },
  {
   "cell_type": "markdown",
   "id": "ad0ee49d",
   "metadata": {
    "papermill": {
     "duration": 0.009237,
     "end_time": "2022-07-16T10:08:38.111293",
     "exception": false,
     "start_time": "2022-07-16T10:08:38.102056",
     "status": "completed"
    },
    "tags": []
   },
   "source": [
    "## Preprocessing"
   ]
  },
  {
   "cell_type": "code",
   "execution_count": 5,
   "id": "ffd39a74",
   "metadata": {
    "execution": {
     "iopub.execute_input": "2022-07-16T10:08:38.132372Z",
     "iopub.status.busy": "2022-07-16T10:08:38.131676Z",
     "iopub.status.idle": "2022-07-16T10:08:38.135953Z",
     "shell.execute_reply": "2022-07-16T10:08:38.135253Z"
    },
    "papermill": {
     "duration": 0.017075,
     "end_time": "2022-07-16T10:08:38.137852",
     "exception": false,
     "start_time": "2022-07-16T10:08:38.120777",
     "status": "completed"
    },
    "tags": []
   },
   "outputs": [],
   "source": [
    "# Most common method for handling miss values is filling miss value with column mean, median or mod.\n",
    "# But here we will handling BMI columns as a target column and making regression analysis.\n",
    "# This dataset is perfect for this solution."
   ]
  },
  {
   "cell_type": "code",
   "execution_count": 6,
   "id": "5e3a752a",
   "metadata": {
    "execution": {
     "iopub.execute_input": "2022-07-16T10:08:38.158559Z",
     "iopub.status.busy": "2022-07-16T10:08:38.157851Z",
     "iopub.status.idle": "2022-07-16T10:08:38.166371Z",
     "shell.execute_reply": "2022-07-16T10:08:38.165092Z"
    },
    "papermill": {
     "duration": 0.02132,
     "end_time": "2022-07-16T10:08:38.168391",
     "exception": false,
     "start_time": "2022-07-16T10:08:38.147071",
     "status": "completed"
    },
    "tags": []
   },
   "outputs": [
    {
     "name": "stdout",
     "output_type": "stream",
     "text": [
      "Min value of BMI:  10.3\n",
      "Max value of BMI:  97.6\n"
     ]
    }
   ],
   "source": [
    "print(\"Min value of BMI: \",df.bmi.min())\n",
    "print(\"Max value of BMI: \",df.bmi.max())\n",
    "# Both of them are not compatible with life."
   ]
  },
  {
   "cell_type": "code",
   "execution_count": 7,
   "id": "fe8dde7f",
   "metadata": {
    "execution": {
     "iopub.execute_input": "2022-07-16T10:08:38.189527Z",
     "iopub.status.busy": "2022-07-16T10:08:38.188869Z",
     "iopub.status.idle": "2022-07-16T10:08:38.326150Z",
     "shell.execute_reply": "2022-07-16T10:08:38.324704Z"
    },
    "papermill": {
     "duration": 0.152335,
     "end_time": "2022-07-16T10:08:38.330477",
     "exception": false,
     "start_time": "2022-07-16T10:08:38.178142",
     "status": "completed"
    },
    "tags": []
   },
   "outputs": [
    {
     "data": {
      "text/plain": [
       "<AxesSubplot:ylabel='bmi'>"
      ]
     },
     "execution_count": 7,
     "metadata": {},
     "output_type": "execute_result"
    },
    {
     "data": {
      "image/png": "[encoded data removed]",
      "text/plain": [
       "<Figure size 432x288 with 1 Axes>"
      ]
     },
     "metadata": {
      "needs_background": "light"
     },
     "output_type": "display_data"
    }
   ],
   "source": [
    "sns.boxplot(data=df,y=\"bmi\",hue=\"stroke\")"
   ]
  },
  {
   "cell_type": "code",
   "execution_count": 8,
   "id": "9b8e0c04",
   "metadata": {
    "execution": {
     "iopub.execute_input": "2022-07-16T10:08:38.362287Z",
     "iopub.status.busy": "2022-07-16T10:08:38.361289Z",
     "iopub.status.idle": "2022-07-16T10:08:38.374084Z",
     "shell.execute_reply": "2022-07-16T10:08:38.373106Z"
    },
    "papermill": {
     "duration": 0.02679,
     "end_time": "2022-07-16T10:08:38.376913",
     "exception": false,
     "start_time": "2022-07-16T10:08:38.350123",
     "status": "completed"
    },
    "tags": []
   },
   "outputs": [
    {
     "name": "stdout",
     "output_type": "stream",
     "text": [
      "Max 97.6 Min 10.3 Mean 28.89\n",
      "IQR:  9.6 Q1:  23.5 down board 9.1  Q3:  33.1 upper board 47.5\n",
      "For the feature bmi, No of Outliers is 110\n"
     ]
    }
   ],
   "source": [
    "def outliers (df_out,drop=False):\n",
    "    for each_feature in df_out.columns:\n",
    "        feature_data = df_out[each_feature]\n",
    "        Q1 = np.round(np.percentile(feature_data,25),2)\n",
    "        Q3 = np.round(np.percentile(feature_data,75),2)\n",
    "        IQR = np.round(Q3-Q1,2)\n",
    "        outlier_step = np.round(IQR * 1.5,2)\n",
    "        print(\"Max\",np.max(feature_data),\"Min\",np.min(feature_data),\"Mean\",np.round(np.mean(feature_data),2))\n",
    "        print(\"IQR: \",IQR,\"Q1: \",Q1,\"down board\",Q1-outlier_step,\" Q3: \",Q3,\"upper board\",Q3+outlier_step)\n",
    "        outliers = feature_data[~((feature_data >= Q1 - outlier_step)&(feature_data <= Q3 + outlier_step))].index.tolist()\n",
    "        print('For the feature {}, No of Outliers is {}'.format(each_feature,len(outliers)))\n",
    "\n",
    "\n",
    "full_bmi = df[~df.bmi.isnull()]\n",
    "outliers(full_bmi[[\"bmi\"]])"
   ]
  },
  {
   "cell_type": "code",
   "execution_count": 9,
   "id": "0ecb2e94",
   "metadata": {
    "execution": {
     "iopub.execute_input": "2022-07-16T10:08:38.400315Z",
     "iopub.status.busy": "2022-07-16T10:08:38.399962Z",
     "iopub.status.idle": "2022-07-16T10:08:38.415839Z",
     "shell.execute_reply": "2022-07-16T10:08:38.414599Z"
    },
    "papermill": {
     "duration": 0.029877,
     "end_time": "2022-07-16T10:08:38.417943",
     "exception": false,
     "start_time": "2022-07-16T10:08:38.388066",
     "status": "completed"
    },
    "tags": []
   },
   "outputs": [
    {
     "name": "stdout",
     "output_type": "stream",
     "text": [
      "When the BMI<14: \n",
      " 0    16\n",
      "Name: stroke, dtype: int64\n",
      "When the BMI>49: \n",
      " 0    89\n",
      "1     1\n",
      "Name: stroke, dtype: int64\n",
      "We lost 1 target number\n"
     ]
    }
   ],
   "source": [
    "# But BMI<14 it is not good. We can eliminate these.\n",
    "a = df.stroke.value_counts().values[1]\n",
    "print(\"When the BMI<14: \\n\",df[df.bmi<14].stroke.value_counts())\n",
    "df = df[~(df.bmi<14)]\n",
    "print(\"When the BMI>49: \\n\",df[df.bmi>49].stroke.value_counts())\n",
    "df = df[~(df.bmi>49)]\n",
    "b = df.stroke.value_counts().values[1]\n",
    "print(\"We lost {} target number\".format(a-b))"
   ]
  },
  {
   "cell_type": "code",
   "execution_count": 10,
   "id": "f69d4a19",
   "metadata": {
    "execution": {
     "iopub.execute_input": "2022-07-16T10:08:38.439439Z",
     "iopub.status.busy": "2022-07-16T10:08:38.439050Z",
     "iopub.status.idle": "2022-07-16T10:08:38.455225Z",
     "shell.execute_reply": "2022-07-16T10:08:38.453988Z"
    },
    "papermill": {
     "duration": 0.029867,
     "end_time": "2022-07-16T10:08:38.457736",
     "exception": false,
     "start_time": "2022-07-16T10:08:38.427869",
     "status": "completed"
    },
    "tags": []
   },
   "outputs": [],
   "source": [
    "def grab_col_names(dataframe, cat_th=10, car_th=20):\n",
    "\n",
    "    # cat_cols, cat_but_car\n",
    "    cat_cols = [col for col in dataframe.columns if dataframe[col].dtypes == \"O\"]\n",
    "    num_but_cat = [col for col in dataframe.columns if dataframe[col].nunique() < cat_th and\n",
    "                   dataframe[col].dtypes != \"O\"]\n",
    "    cat_but_car = [col for col in dataframe.columns if dataframe[col].nunique() > car_th and\n",
    "                   dataframe[col].dtypes == \"O\"]\n",
    "    cat_cols = cat_cols + num_but_cat\n",
    "    cat_cols = [col for col in cat_cols if col not in cat_but_car]\n",
    "\n",
    "    # num_cols\n",
    "    num_cols = [col for col in dataframe.columns if dataframe[col].dtypes != \"O\"]\n",
    "    num_cols = [col for col in num_cols if col not in num_but_cat]\n",
    "  \n",
    "    return cat_cols, num_cols, cat_but_car\n",
    "###\n",
    "cat_cols, num_cols, cat_but_car = grab_col_names(df)\n",
    "target = \"stroke\""
   ]
  },
  {
   "cell_type": "code",
   "execution_count": 11,
   "id": "6c15ed3a",
   "metadata": {
    "execution": {
     "iopub.execute_input": "2022-07-16T10:08:38.479203Z",
     "iopub.status.busy": "2022-07-16T10:08:38.478842Z",
     "iopub.status.idle": "2022-07-16T10:08:38.506559Z",
     "shell.execute_reply": "2022-07-16T10:08:38.505563Z"
    },
    "papermill": {
     "duration": 0.041256,
     "end_time": "2022-07-16T10:08:38.509057",
     "exception": false,
     "start_time": "2022-07-16T10:08:38.467801",
     "status": "completed"
    },
    "tags": []
   },
   "outputs": [
    {
     "name": "stdout",
     "output_type": "stream",
     "text": [
      "gender : 3\n",
      "        COUNT     RATIO  TARGET_MEAN\n",
      "Female   2918  0.583133     0.047978\n",
      "Male     2085  0.416667     0.051799\n",
      "Other       1  0.000200     0.000000\n",
      "\n",
      "\n",
      "ever_married  have'nt rare variable\n",
      "work_type : 5\n",
      "               COUNT     RATIO  TARGET_MEAN\n",
      "Govt_job         644  0.128697     0.051242\n",
      "Never_worked      22  0.004396     0.000000\n",
      "Private         2861  0.571743     0.051730\n",
      "Self-employed    804  0.160671     0.080846\n",
      "children         673  0.134492     0.002972\n",
      "\n",
      "\n",
      "Residence_type  have'nt rare variable\n",
      "smoking_status  have'nt rare variable\n",
      "hypertension  have'nt rare variable\n",
      "heart_disease  have'nt rare variable\n",
      "stroke  have'nt rare variable\n"
     ]
    }
   ],
   "source": [
    "# Another preprocessing method find to very rare variable end eliminate.\n",
    "\n",
    "def rare_analyser(dataframe, target, cat_cols):\n",
    "    for col in cat_cols:\n",
    "        a = np.min((dataframe[col].value_counts() / len(dataframe)))\n",
    "        if a < 0.01: #Rare variable can be little than 1%\n",
    "            print(col, \":\", len(dataframe[col].value_counts()))\n",
    "            print(pd.DataFrame({\"COUNT\": dataframe[col].value_counts(),\n",
    "                                \"RATIO\": dataframe[col].value_counts() / len(dataframe),\n",
    "                                \"TARGET_MEAN\": dataframe.groupby(col)[target].mean()}), end=\"\\n\\n\\n\")\n",
    "        else:\n",
    "            print(col,\" have'nt rare variable\")\n",
    "            \n",
    "rare_analyser(df, target, cat_cols)"
   ]
  },
  {
   "cell_type": "markdown",
   "id": "4461508e",
   "metadata": {
    "papermill": {
     "duration": 0.010468,
     "end_time": "2022-07-16T10:08:38.529614",
     "exception": false,
     "start_time": "2022-07-16T10:08:38.519146",
     "status": "completed"
    },
    "tags": []
   },
   "source": [
    "### BTW, I respect everyone's gender preference, but this creates noise in the dataset, I find it more appropriate to remove it from the dataset instead of changing its gender by assigning mode or median to it.\n",
    "\n",
    "![ally](https://media.dayoftheshirt.com/images/shirts/wzWkW/teepublic_we-are-all-human-lgbt-gay-rights-pride-ally-gift-t-shirt-teepublic_1559101486.large.png)\n",
    "\n",
    "#### And I will remove Never_worked variable in the work_type\n"
   ]
  },
  {
   "cell_type": "code",
   "execution_count": 12,
   "id": "7facd3d4",
   "metadata": {
    "execution": {
     "iopub.execute_input": "2022-07-16T10:08:38.551514Z",
     "iopub.status.busy": "2022-07-16T10:08:38.550763Z",
     "iopub.status.idle": "2022-07-16T10:08:38.559687Z",
     "shell.execute_reply": "2022-07-16T10:08:38.558408Z"
    },
    "papermill": {
     "duration": 0.022084,
     "end_time": "2022-07-16T10:08:38.561675",
     "exception": false,
     "start_time": "2022-07-16T10:08:38.539591",
     "status": "completed"
    },
    "tags": []
   },
   "outputs": [
    {
     "name": "stdout",
     "output_type": "stream",
     "text": [
      "Children but stroke patient:\n",
      " 0    671\n",
      "1      2\n",
      "Name: stroke, dtype: int64\n"
     ]
    }
   ],
   "source": [
    "print(\"Children but stroke patient:\\n\",(df[df.work_type==\"children\"].stroke.value_counts()))"
   ]
  },
  {
   "cell_type": "code",
   "execution_count": 13,
   "id": "bb6588bf",
   "metadata": {
    "execution": {
     "iopub.execute_input": "2022-07-16T10:08:38.584094Z",
     "iopub.status.busy": "2022-07-16T10:08:38.582995Z",
     "iopub.status.idle": "2022-07-16T10:08:38.837473Z",
     "shell.execute_reply": "2022-07-16T10:08:38.836411Z"
    },
    "papermill": {
     "duration": 0.268065,
     "end_time": "2022-07-16T10:08:38.839772",
     "exception": false,
     "start_time": "2022-07-16T10:08:38.571707",
     "status": "completed"
    },
    "tags": []
   },
   "outputs": [
    {
     "data": {
      "image/png": "[encoded data removed]",
      "text/plain": [
       "<Figure size 864x576 with 1 Axes>"
      ]
     },
     "metadata": {
      "needs_background": "light"
     },
     "output_type": "display_data"
    }
   ],
   "source": [
    "plt.figure(figsize=(12,8))\n",
    "sns.histplot(df[df.work_type==\"children\"].age,\n",
    "             bins=int(df[df.work_type==\"children\"].age.max()),\n",
    "             kde=True,fill=True)\n",
    "plt.xticks(rotation=45, ha='right')\n",
    "plt.show()\n",
    "\n",
    "# I assumed this variable mean that, they are children and they are doesnt work. "
   ]
  },
  {
   "cell_type": "code",
   "execution_count": 14,
   "id": "42365e12",
   "metadata": {
    "execution": {
     "iopub.execute_input": "2022-07-16T10:08:38.862734Z",
     "iopub.status.busy": "2022-07-16T10:08:38.862342Z",
     "iopub.status.idle": "2022-07-16T10:08:39.028038Z",
     "shell.execute_reply": "2022-07-16T10:08:39.026895Z"
    },
    "papermill": {
     "duration": 0.179796,
     "end_time": "2022-07-16T10:08:39.030644",
     "exception": false,
     "start_time": "2022-07-16T10:08:38.850848",
     "status": "completed"
    },
    "tags": []
   },
   "outputs": [
    {
     "data": {
      "text/plain": [
       "<AxesSubplot:xlabel='smoking_status', ylabel='count'>"
      ]
     },
     "execution_count": 14,
     "metadata": {},
     "output_type": "execute_result"
    },
    {
     "data": {
      "image/png": "[encoded data removed]",
      "text/plain": [
       "<Figure size 432x288 with 1 Axes>"
      ]
     },
     "metadata": {
      "needs_background": "light"
     },
     "output_type": "display_data"
    }
   ],
   "source": [
    "sns.countplot(data = df[df.work_type==\"children\"],\n",
    "              x=\"smoking_status\")\n",
    "# what is the Formerly smoked children?"
   ]
  },
  {
   "cell_type": "code",
   "execution_count": 15,
   "id": "7492b2da",
   "metadata": {
    "execution": {
     "iopub.execute_input": "2022-07-16T10:08:39.054349Z",
     "iopub.status.busy": "2022-07-16T10:08:39.053961Z",
     "iopub.status.idle": "2022-07-16T10:08:39.069144Z",
     "shell.execute_reply": "2022-07-16T10:08:39.068115Z"
    },
    "papermill": {
     "duration": 0.029505,
     "end_time": "2022-07-16T10:08:39.071390",
     "exception": false,
     "start_time": "2022-07-16T10:08:39.041885",
     "status": "completed"
    },
    "tags": []
   },
   "outputs": [
    {
     "name": "stdout",
     "output_type": "stream",
     "text": [
      "We lost 0 target number\n"
     ]
    },
    {
     "data": {
      "text/plain": [
       "(4981, 11)"
      ]
     },
     "execution_count": 15,
     "metadata": {},
     "output_type": "execute_result"
    }
   ],
   "source": [
    "a = df.stroke.value_counts().values[1]\n",
    "df = df[~(df.work_type==\"Never_worked\")]\n",
    "df = df[~(df.gender==\"Other\")]\n",
    "#df = df[~(df.work_type==\"children\")] - I tried but model doesnt work properly\n",
    "b = df.stroke.value_counts().values[1]\n",
    "print(\"We lost {} target number\".format(a-b))\n",
    "df.shape"
   ]
  },
  {
   "cell_type": "markdown",
   "id": "9ed50a1f",
   "metadata": {
    "papermill": {
     "duration": 0.010612,
     "end_time": "2022-07-16T10:08:39.093149",
     "exception": false,
     "start_time": "2022-07-16T10:08:39.082537",
     "status": "completed"
    },
    "tags": []
   },
   "source": [
    "### There are also good integration, but we are doing obsessively integration for today."
   ]
  },
  {
   "cell_type": "code",
   "execution_count": 16,
   "id": "ac05f10a",
   "metadata": {
    "execution": {
     "iopub.execute_input": "2022-07-16T10:08:39.116389Z",
     "iopub.status.busy": "2022-07-16T10:08:39.115949Z",
     "iopub.status.idle": "2022-07-16T10:08:39.120583Z",
     "shell.execute_reply": "2022-07-16T10:08:39.119488Z"
    },
    "papermill": {
     "duration": 0.018667,
     "end_time": "2022-07-16T10:08:39.122604",
     "exception": false,
     "start_time": "2022-07-16T10:08:39.103937",
     "status": "completed"
    },
    "tags": []
   },
   "outputs": [],
   "source": [
    "#df[\"bmi\"] = df.groupby(['gender','heart_disease',\"hypertension\",\"stroke\",\n",
    "#                        \"ever_married\",\"work_type\",\"Residence_type\",\"smoking_status\"], \n",
    "#                       sort=False)['bmi'].apply(lambda x: x.fillna(x.mean(skipna=True)))\n",
    "\n",
    "#df[\"bmi\"] = df[\"bmi\"].fillna(df.groupby(['gender','heart_disease',\"hypertension\",\"stroke\",\n",
    "#                        \"ever_married\",\"work_type\",\"Residence_type\",\"smoking_status\"], \n",
    "#                       sort=False)['bmi'].transform(\"mean\"))"
   ]
  },
  {
   "cell_type": "code",
   "execution_count": 17,
   "id": "6a441da2",
   "metadata": {
    "execution": {
     "iopub.execute_input": "2022-07-16T10:08:39.146285Z",
     "iopub.status.busy": "2022-07-16T10:08:39.145587Z",
     "iopub.status.idle": "2022-07-16T10:08:39.155613Z",
     "shell.execute_reply": "2022-07-16T10:08:39.154358Z"
    },
    "papermill": {
     "duration": 0.02441,
     "end_time": "2022-07-16T10:08:39.157697",
     "exception": false,
     "start_time": "2022-07-16T10:08:39.133287",
     "status": "completed"
    },
    "tags": []
   },
   "outputs": [
    {
     "name": "stdout",
     "output_type": "stream",
     "text": [
      "(4780, 10) (4780,)\n"
     ]
    }
   ],
   "source": [
    "# Selecting non NaN bmi values from df\n",
    "\n",
    "X = df[~df.bmi.isnull()].drop(columns=\"bmi\")\n",
    "y = df[~df.bmi.isnull()].bmi\n",
    "print(X.shape,y.shape)"
   ]
  },
  {
   "cell_type": "code",
   "execution_count": 18,
   "id": "acacbca6",
   "metadata": {
    "execution": {
     "iopub.execute_input": "2022-07-16T10:08:39.180883Z",
     "iopub.status.busy": "2022-07-16T10:08:39.180525Z",
     "iopub.status.idle": "2022-07-16T10:08:39.202029Z",
     "shell.execute_reply": "2022-07-16T10:08:39.200941Z"
    },
    "papermill": {
     "duration": 0.035859,
     "end_time": "2022-07-16T10:08:39.204188",
     "exception": false,
     "start_time": "2022-07-16T10:08:39.168329",
     "status": "completed"
    },
    "tags": []
   },
   "outputs": [
    {
     "name": "stdout",
     "output_type": "stream",
     "text": [
      "Final X shape (4780, 10)\n"
     ]
    },
    {
     "data": {
      "text/html": [
       "<div>\n",
       "<style scoped>\n",
       "    .dataframe tbody tr th:only-of-type {\n",
       "        vertical-align: middle;\n",
       "    }\n",
       "\n",
       "    .dataframe tbody tr th {\n",
       "        vertical-align: top;\n",
       "    }\n",
       "\n",
       "    .dataframe thead th {\n",
       "        text-align: right;\n",
       "    }\n",
       "</style>\n",
       "<table border=\"1\" class=\"dataframe\">\n",
       "  <thead>\n",
       "    <tr style=\"text-align: right;\">\n",
       "      <th></th>\n",
       "      <th>gender</th>\n",
       "      <th>age</th>\n",
       "      <th>hypertension</th>\n",
       "      <th>heart_disease</th>\n",
       "      <th>ever_married</th>\n",
       "      <th>work_type</th>\n",
       "      <th>Residence_type</th>\n",
       "      <th>avg_glucose_level</th>\n",
       "      <th>smoking_status</th>\n",
       "      <th>stroke</th>\n",
       "      <th>bmi</th>\n",
       "    </tr>\n",
       "  </thead>\n",
       "  <tbody>\n",
       "    <tr>\n",
       "      <th>123</th>\n",
       "      <td>Male</td>\n",
       "      <td>56.0</td>\n",
       "      <td>1</td>\n",
       "      <td>0</td>\n",
       "      <td>Yes</td>\n",
       "      <td>Private</td>\n",
       "      <td>Rural</td>\n",
       "      <td>249.31</td>\n",
       "      <td>never smoked</td>\n",
       "      <td>1</td>\n",
       "      <td>35.8</td>\n",
       "    </tr>\n",
       "    <tr>\n",
       "      <th>2657</th>\n",
       "      <td>Female</td>\n",
       "      <td>36.0</td>\n",
       "      <td>0</td>\n",
       "      <td>0</td>\n",
       "      <td>Yes</td>\n",
       "      <td>Govt_job</td>\n",
       "      <td>Rural</td>\n",
       "      <td>129.43</td>\n",
       "      <td>never smoked</td>\n",
       "      <td>0</td>\n",
       "      <td>29.7</td>\n",
       "    </tr>\n",
       "    <tr>\n",
       "      <th>4274</th>\n",
       "      <td>Female</td>\n",
       "      <td>36.0</td>\n",
       "      <td>0</td>\n",
       "      <td>0</td>\n",
       "      <td>Yes</td>\n",
       "      <td>Self-employed</td>\n",
       "      <td>Urban</td>\n",
       "      <td>202.06</td>\n",
       "      <td>never smoked</td>\n",
       "      <td>0</td>\n",
       "      <td>24.4</td>\n",
       "    </tr>\n",
       "    <tr>\n",
       "      <th>568</th>\n",
       "      <td>Female</td>\n",
       "      <td>81.0</td>\n",
       "      <td>0</td>\n",
       "      <td>0</td>\n",
       "      <td>No</td>\n",
       "      <td>Self-employed</td>\n",
       "      <td>Urban</td>\n",
       "      <td>71.91</td>\n",
       "      <td>Unknown</td>\n",
       "      <td>0</td>\n",
       "      <td>19.2</td>\n",
       "    </tr>\n",
       "    <tr>\n",
       "      <th>2251</th>\n",
       "      <td>Male</td>\n",
       "      <td>49.0</td>\n",
       "      <td>0</td>\n",
       "      <td>0</td>\n",
       "      <td>Yes</td>\n",
       "      <td>Private</td>\n",
       "      <td>Urban</td>\n",
       "      <td>130.07</td>\n",
       "      <td>never smoked</td>\n",
       "      <td>0</td>\n",
       "      <td>26.0</td>\n",
       "    </tr>\n",
       "  </tbody>\n",
       "</table>\n",
       "</div>"
      ],
      "text/plain": [
       "      gender   age  hypertension  heart_disease ever_married      work_type  \\\n",
       "123     Male  56.0             1              0          Yes        Private   \n",
       "2657  Female  36.0             0              0          Yes       Govt_job   \n",
       "4274  Female  36.0             0              0          Yes  Self-employed   \n",
       "568   Female  81.0             0              0           No  Self-employed   \n",
       "2251    Male  49.0             0              0          Yes        Private   \n",
       "\n",
       "     Residence_type  avg_glucose_level smoking_status  stroke   bmi  \n",
       "123           Rural             249.31   never smoked       1  35.8  \n",
       "2657          Rural             129.43   never smoked       0  29.7  \n",
       "4274          Urban             202.06   never smoked       0  24.4  \n",
       "568           Urban              71.91        Unknown       0  19.2  \n",
       "2251          Urban             130.07   never smoked       0  26.0  "
      ]
     },
     "execution_count": 18,
     "metadata": {},
     "output_type": "execute_result"
    }
   ],
   "source": [
    "#X = pd.get_dummies(data=X,columns=['gender', 'hypertension', 'heart_disease', 'ever_married', \n",
    "#               'work_type', 'Residence_type', 'smoking_status', 'stroke'],drop_first=True)\n",
    "\n",
    "print(\"Final X shape\",X.shape)\n",
    "X_train, X_test, y_train, y_test = train_test_split(X, y, test_size=0.3, random_state=42)\n",
    "train = X_train.copy()\n",
    "train[\"bmi\"] = y_train\n",
    "test = X_test.copy()\n",
    "test[\"bmi\"] = y_test\n",
    "train.head()"
   ]
  },
  {
   "cell_type": "code",
   "execution_count": 19,
   "id": "7007198e",
   "metadata": {
    "execution": {
     "iopub.execute_input": "2022-07-16T10:08:39.229073Z",
     "iopub.status.busy": "2022-07-16T10:08:39.228721Z",
     "iopub.status.idle": "2022-07-16T10:08:39.232776Z",
     "shell.execute_reply": "2022-07-16T10:08:39.231961Z"
    },
    "papermill": {
     "duration": 0.018427,
     "end_time": "2022-07-16T10:08:39.234624",
     "exception": false,
     "start_time": "2022-07-16T10:08:39.216197",
     "status": "completed"
    },
    "tags": []
   },
   "outputs": [],
   "source": [
    "#!pip install --use-deprecated=legacy-resolver pycaret[full] --ignore-installed llvmlite\n",
    "#!pip install markupsafe==2.0.1\n",
    "#!pip install numba==0.53 --ignore-installed llvmlite"
   ]
  },
  {
   "cell_type": "code",
   "execution_count": 20,
   "id": "823a470e",
   "metadata": {
    "execution": {
     "iopub.execute_input": "2022-07-16T10:08:39.258890Z",
     "iopub.status.busy": "2022-07-16T10:08:39.257963Z",
     "iopub.status.idle": "2022-07-16T10:08:39.262681Z",
     "shell.execute_reply": "2022-07-16T10:08:39.261614Z"
    },
    "papermill": {
     "duration": 0.019096,
     "end_time": "2022-07-16T10:08:39.264863",
     "exception": false,
     "start_time": "2022-07-16T10:08:39.245767",
     "status": "completed"
    },
    "tags": []
   },
   "outputs": [],
   "source": [
    "# After the install you will take error message, please Restart and run above\n",
    "#from pycaret.regression import *"
   ]
  },
  {
   "cell_type": "code",
   "execution_count": 21,
   "id": "8e3b0218",
   "metadata": {
    "execution": {
     "iopub.execute_input": "2022-07-16T10:08:39.289611Z",
     "iopub.status.busy": "2022-07-16T10:08:39.288947Z",
     "iopub.status.idle": "2022-07-16T10:08:39.292578Z",
     "shell.execute_reply": "2022-07-16T10:08:39.291830Z"
    },
    "papermill": {
     "duration": 0.018157,
     "end_time": "2022-07-16T10:08:39.294483",
     "exception": false,
     "start_time": "2022-07-16T10:08:39.276326",
     "status": "completed"
    },
    "tags": []
   },
   "outputs": [],
   "source": [
    "#reg1 = setup(train, \n",
    "#             target = 'bmi')"
   ]
  },
  {
   "cell_type": "code",
   "execution_count": 22,
   "id": "8e14a820",
   "metadata": {
    "execution": {
     "iopub.execute_input": "2022-07-16T10:08:39.318512Z",
     "iopub.status.busy": "2022-07-16T10:08:39.318088Z",
     "iopub.status.idle": "2022-07-16T10:08:39.323157Z",
     "shell.execute_reply": "2022-07-16T10:08:39.322007Z"
    },
    "papermill": {
     "duration": 0.019807,
     "end_time": "2022-07-16T10:08:39.325382",
     "exception": false,
     "start_time": "2022-07-16T10:08:39.305575",
     "status": "completed"
    },
    "tags": []
   },
   "outputs": [],
   "source": [
    "#best_specific = compare_models()"
   ]
  },
  {
   "cell_type": "markdown",
   "id": "42da1e78",
   "metadata": {
    "papermill": {
     "duration": 0.010627,
     "end_time": "2022-07-16T10:08:39.347251",
     "exception": false,
     "start_time": "2022-07-16T10:08:39.336624",
     "status": "completed"
    },
    "tags": []
   },
   "source": [
    "compare_models function\n",
    "\n",
    "<a href=\"https://ibb.co/C91MdKD\"><img src=\"https://i.ibb.co/1XvdVGj/Ekran-Resmi-2022-07-15-22-32-01.png\" alt=\"Ekran-Resmi-2022-07-15-22-32-01\" border=\"0\"></a>"
   ]
  },
  {
   "cell_type": "code",
   "execution_count": 23,
   "id": "63944f5d",
   "metadata": {
    "execution": {
     "iopub.execute_input": "2022-07-16T10:08:39.370520Z",
     "iopub.status.busy": "2022-07-16T10:08:39.370122Z",
     "iopub.status.idle": "2022-07-16T10:08:39.374319Z",
     "shell.execute_reply": "2022-07-16T10:08:39.373505Z"
    },
    "papermill": {
     "duration": 0.01835,
     "end_time": "2022-07-16T10:08:39.376500",
     "exception": false,
     "start_time": "2022-07-16T10:08:39.358150",
     "status": "completed"
    },
    "tags": []
   },
   "outputs": [],
   "source": [
    "#gbr = create_model('gbr', verbose = True)"
   ]
  },
  {
   "cell_type": "code",
   "execution_count": 24,
   "id": "9e3fd68a",
   "metadata": {
    "execution": {
     "iopub.execute_input": "2022-07-16T10:08:39.400158Z",
     "iopub.status.busy": "2022-07-16T10:08:39.399774Z",
     "iopub.status.idle": "2022-07-16T10:08:39.404369Z",
     "shell.execute_reply": "2022-07-16T10:08:39.403286Z"
    },
    "papermill": {
     "duration": 0.018637,
     "end_time": "2022-07-16T10:08:39.406199",
     "exception": false,
     "start_time": "2022-07-16T10:08:39.387562",
     "status": "completed"
    },
    "tags": []
   },
   "outputs": [],
   "source": [
    "#tuned_gbr = tune_model(gbr,\n",
    "#                       search_library='optuna', \n",
    "#                       search_algorithm='tpe',\n",
    "#                       n_iter = 20)"
   ]
  },
  {
   "cell_type": "code",
   "execution_count": 25,
   "id": "88bc6858",
   "metadata": {
    "execution": {
     "iopub.execute_input": "2022-07-16T10:08:39.430417Z",
     "iopub.status.busy": "2022-07-16T10:08:39.429542Z",
     "iopub.status.idle": "2022-07-16T10:08:39.433944Z",
     "shell.execute_reply": "2022-07-16T10:08:39.432860Z"
    },
    "papermill": {
     "duration": 0.018536,
     "end_time": "2022-07-16T10:08:39.435870",
     "exception": false,
     "start_time": "2022-07-16T10:08:39.417334",
     "status": "completed"
    },
    "tags": []
   },
   "outputs": [],
   "source": [
    "#cb = create_model('catboost', verbose = True)"
   ]
  },
  {
   "cell_type": "code",
   "execution_count": 26,
   "id": "15b2efb6",
   "metadata": {
    "execution": {
     "iopub.execute_input": "2022-07-16T10:08:39.459226Z",
     "iopub.status.busy": "2022-07-16T10:08:39.458850Z",
     "iopub.status.idle": "2022-07-16T10:08:39.463231Z",
     "shell.execute_reply": "2022-07-16T10:08:39.462260Z"
    },
    "papermill": {
     "duration": 0.018425,
     "end_time": "2022-07-16T10:08:39.465180",
     "exception": false,
     "start_time": "2022-07-16T10:08:39.446755",
     "status": "completed"
    },
    "tags": []
   },
   "outputs": [],
   "source": [
    "#tuned_cb = tune_model(cb,\n",
    "#                       search_library='optuna', \n",
    "#                       search_algorithm='tpe',\n",
    "#                       n_iter = 20)"
   ]
  },
  {
   "cell_type": "code",
   "execution_count": 27,
   "id": "86026dc1",
   "metadata": {
    "execution": {
     "iopub.execute_input": "2022-07-16T10:08:39.490028Z",
     "iopub.status.busy": "2022-07-16T10:08:39.488969Z",
     "iopub.status.idle": "2022-07-16T10:08:39.493200Z",
     "shell.execute_reply": "2022-07-16T10:08:39.492455Z"
    },
    "papermill": {
     "duration": 0.018451,
     "end_time": "2022-07-16T10:08:39.495081",
     "exception": false,
     "start_time": "2022-07-16T10:08:39.476630",
     "status": "completed"
    },
    "tags": []
   },
   "outputs": [],
   "source": [
    "#lightgbm = create_model('lightgbm', verbose = True)"
   ]
  },
  {
   "cell_type": "code",
   "execution_count": 28,
   "id": "b8d137d6",
   "metadata": {
    "execution": {
     "iopub.execute_input": "2022-07-16T10:08:39.519128Z",
     "iopub.status.busy": "2022-07-16T10:08:39.518743Z",
     "iopub.status.idle": "2022-07-16T10:08:39.522788Z",
     "shell.execute_reply": "2022-07-16T10:08:39.521882Z"
    },
    "papermill": {
     "duration": 0.018173,
     "end_time": "2022-07-16T10:08:39.524625",
     "exception": false,
     "start_time": "2022-07-16T10:08:39.506452",
     "status": "completed"
    },
    "tags": []
   },
   "outputs": [],
   "source": [
    "#tuned_lightgbm = tune_model(lightgbm, tune_model(gbr,\n",
    "#                       search_library='optuna', \n",
    "#                       search_algorithm='tpe',\n",
    "#                       n_iter = 20)"
   ]
  },
  {
   "cell_type": "code",
   "execution_count": 29,
   "id": "c6ead5f8",
   "metadata": {
    "execution": {
     "iopub.execute_input": "2022-07-16T10:08:39.548337Z",
     "iopub.status.busy": "2022-07-16T10:08:39.547980Z",
     "iopub.status.idle": "2022-07-16T10:08:39.552091Z",
     "shell.execute_reply": "2022-07-16T10:08:39.551202Z"
    },
    "papermill": {
     "duration": 0.018166,
     "end_time": "2022-07-16T10:08:39.553871",
     "exception": false,
     "start_time": "2022-07-16T10:08:39.535705",
     "status": "completed"
    },
    "tags": []
   },
   "outputs": [],
   "source": [
    "#xgboost = create_model('xgboost', verbose = True)"
   ]
  },
  {
   "cell_type": "code",
   "execution_count": 30,
   "id": "404162ff",
   "metadata": {
    "execution": {
     "iopub.execute_input": "2022-07-16T10:08:39.579552Z",
     "iopub.status.busy": "2022-07-16T10:08:39.577525Z",
     "iopub.status.idle": "2022-07-16T10:08:39.583344Z",
     "shell.execute_reply": "2022-07-16T10:08:39.582674Z"
    },
    "papermill": {
     "duration": 0.020267,
     "end_time": "2022-07-16T10:08:39.585567",
     "exception": false,
     "start_time": "2022-07-16T10:08:39.565300",
     "status": "completed"
    },
    "tags": []
   },
   "outputs": [],
   "source": [
    "#tuned_xgboost = tune_model(xgboost, tune_model(gbr,\n",
    "#                       search_library='optuna', \n",
    "#                       search_algorithm='tpe',\n",
    "#                       n_iter = 20)"
   ]
  },
  {
   "cell_type": "code",
   "execution_count": 31,
   "id": "ded77570",
   "metadata": {
    "execution": {
     "iopub.execute_input": "2022-07-16T10:08:39.609060Z",
     "iopub.status.busy": "2022-07-16T10:08:39.608723Z",
     "iopub.status.idle": "2022-07-16T10:08:39.613111Z",
     "shell.execute_reply": "2022-07-16T10:08:39.612043Z"
    },
    "papermill": {
     "duration": 0.018589,
     "end_time": "2022-07-16T10:08:39.615129",
     "exception": false,
     "start_time": "2022-07-16T10:08:39.596540",
     "status": "completed"
    },
    "tags": []
   },
   "outputs": [],
   "source": [
    "#blender = blend_models(estimator_list = [tuned_gbr,\n",
    "#                                         tuned_lightgbm,\n",
    "#                                         tuned_cb,\n",
    "#                                         tuned_xgboost],\n",
    "#                      fold = 10,\n",
    "#                      choose_better = False,\n",
    "#                      optimize = \"R2\")"
   ]
  },
  {
   "cell_type": "markdown",
   "id": "da8d4f7c",
   "metadata": {
    "papermill": {
     "duration": 0.010664,
     "end_time": "2022-07-16T10:08:39.636784",
     "exception": false,
     "start_time": "2022-07-16T10:08:39.626120",
     "status": "completed"
    },
    "tags": []
   },
   "source": [
    "![](https://i.ibb.co/gdvZbGJ/Ekran-Resmi-2022-07-15-22-41-50.png)"
   ]
  },
  {
   "cell_type": "code",
   "execution_count": 32,
   "id": "24ec8122",
   "metadata": {
    "execution": {
     "iopub.execute_input": "2022-07-16T10:08:39.661712Z",
     "iopub.status.busy": "2022-07-16T10:08:39.661099Z",
     "iopub.status.idle": "2022-07-16T10:08:39.665355Z",
     "shell.execute_reply": "2022-07-16T10:08:39.664573Z"
    },
    "papermill": {
     "duration": 0.019192,
     "end_time": "2022-07-16T10:08:39.667517",
     "exception": false,
     "start_time": "2022-07-16T10:08:39.648325",
     "status": "completed"
    },
    "tags": []
   },
   "outputs": [],
   "source": [
    "#test.head()"
   ]
  },
  {
   "cell_type": "code",
   "execution_count": 33,
   "id": "257e7ce9",
   "metadata": {
    "execution": {
     "iopub.execute_input": "2022-07-16T10:08:39.691820Z",
     "iopub.status.busy": "2022-07-16T10:08:39.690703Z",
     "iopub.status.idle": "2022-07-16T10:08:39.695010Z",
     "shell.execute_reply": "2022-07-16T10:08:39.694191Z"
    },
    "papermill": {
     "duration": 0.018131,
     "end_time": "2022-07-16T10:08:39.696831",
     "exception": false,
     "start_time": "2022-07-16T10:08:39.678700",
     "status": "completed"
    },
    "tags": []
   },
   "outputs": [],
   "source": [
    "#pred_unseen = predict_model(tuned_gbr, data = test.drop(columns=\"bmi\"))"
   ]
  },
  {
   "cell_type": "code",
   "execution_count": 34,
   "id": "097e3e20",
   "metadata": {
    "execution": {
     "iopub.execute_input": "2022-07-16T10:08:39.720475Z",
     "iopub.status.busy": "2022-07-16T10:08:39.720076Z",
     "iopub.status.idle": "2022-07-16T10:08:39.723897Z",
     "shell.execute_reply": "2022-07-16T10:08:39.722930Z"
    },
    "papermill": {
     "duration": 0.017864,
     "end_time": "2022-07-16T10:08:39.725604",
     "exception": false,
     "start_time": "2022-07-16T10:08:39.707740",
     "status": "completed"
    },
    "tags": []
   },
   "outputs": [],
   "source": [
    "# Back to real issue\n",
    "#print(\"R_sqr: \",r2_score(y_test, pred_unseen[\"Label\"]))\n",
    "#print(\"MSE: \",(mean_squared_error(y_test,pred_unseen[\"Label\"]))) "
   ]
  },
  {
   "cell_type": "markdown",
   "id": "a27d0a94",
   "metadata": {
    "papermill": {
     "duration": 0.010596,
     "end_time": "2022-07-16T10:08:39.747195",
     "exception": false,
     "start_time": "2022-07-16T10:08:39.736599",
     "status": "completed"
    },
    "tags": []
   },
   "source": [
    "# For validation prediction\n",
    "\n",
    "## R_sqr:  0.3035774217245104\n",
    "## MSE:  32.602425936538175\n",
    "\n",
    "### My best result ever yeah!!!"
   ]
  },
  {
   "cell_type": "code",
   "execution_count": 35,
   "id": "ce6a5bda",
   "metadata": {
    "execution": {
     "iopub.execute_input": "2022-07-16T10:08:39.771129Z",
     "iopub.status.busy": "2022-07-16T10:08:39.770058Z",
     "iopub.status.idle": "2022-07-16T10:08:39.774044Z",
     "shell.execute_reply": "2022-07-16T10:08:39.773347Z"
    },
    "papermill": {
     "duration": 0.017889,
     "end_time": "2022-07-16T10:08:39.775953",
     "exception": false,
     "start_time": "2022-07-16T10:08:39.758064",
     "status": "completed"
    },
    "tags": []
   },
   "outputs": [],
   "source": [
    "#evaluate_model(tuned_cb)"
   ]
  },
  {
   "cell_type": "code",
   "execution_count": 36,
   "id": "1e7f2d14",
   "metadata": {
    "execution": {
     "iopub.execute_input": "2022-07-16T10:08:39.800950Z",
     "iopub.status.busy": "2022-07-16T10:08:39.800200Z",
     "iopub.status.idle": "2022-07-16T10:08:39.804171Z",
     "shell.execute_reply": "2022-07-16T10:08:39.803108Z"
    },
    "papermill": {
     "duration": 0.018528,
     "end_time": "2022-07-16T10:08:39.806116",
     "exception": false,
     "start_time": "2022-07-16T10:08:39.787588",
     "status": "completed"
    },
    "tags": []
   },
   "outputs": [],
   "source": [
    "# Back real issue\n",
    "#predict_bmi = df[df.bmi.isnull()].drop(columns=\"bmi\")\n",
    "#pred_unseen = predict_model(tuned_gbr, data = predict_bmi)"
   ]
  },
  {
   "cell_type": "code",
   "execution_count": 37,
   "id": "2dec42d4",
   "metadata": {
    "execution": {
     "iopub.execute_input": "2022-07-16T10:08:39.830041Z",
     "iopub.status.busy": "2022-07-16T10:08:39.829668Z",
     "iopub.status.idle": "2022-07-16T10:08:39.833683Z",
     "shell.execute_reply": "2022-07-16T10:08:39.832795Z"
    },
    "papermill": {
     "duration": 0.018507,
     "end_time": "2022-07-16T10:08:39.835707",
     "exception": false,
     "start_time": "2022-07-16T10:08:39.817200",
     "status": "completed"
    },
    "tags": []
   },
   "outputs": [],
   "source": [
    "# I dont use id column again.\n",
    "# I changed columns location like as original dataset\n",
    "# pred_unseen[\"bmi\"] = pred_unseen[\"Label\"]\n",
    "# pred_unseen = pred_unseen[['gender', 'age', 'hypertension', 'heart_disease', 'ever_married',\n",
    "#       'work_type', 'Residence_type', 'avg_glucose_level', 'bmi',\n",
    "#       'smoking_status', 'stroke']].reset_index().drop(columns=\"index\")\n",
    "#pred_unseen.head()"
   ]
  },
  {
   "cell_type": "code",
   "execution_count": 38,
   "id": "4698b53c",
   "metadata": {
    "execution": {
     "iopub.execute_input": "2022-07-16T10:08:39.860645Z",
     "iopub.status.busy": "2022-07-16T10:08:39.860090Z",
     "iopub.status.idle": "2022-07-16T10:08:39.883123Z",
     "shell.execute_reply": "2022-07-16T10:08:39.882417Z"
    },
    "papermill": {
     "duration": 0.038365,
     "end_time": "2022-07-16T10:08:39.885470",
     "exception": false,
     "start_time": "2022-07-16T10:08:39.847105",
     "status": "completed"
    },
    "tags": []
   },
   "outputs": [
    {
     "data": {
      "text/html": [
       "<div>\n",
       "<style scoped>\n",
       "    .dataframe tbody tr th:only-of-type {\n",
       "        vertical-align: middle;\n",
       "    }\n",
       "\n",
       "    .dataframe tbody tr th {\n",
       "        vertical-align: top;\n",
       "    }\n",
       "\n",
       "    .dataframe thead th {\n",
       "        text-align: right;\n",
       "    }\n",
       "</style>\n",
       "<table border=\"1\" class=\"dataframe\">\n",
       "  <thead>\n",
       "    <tr style=\"text-align: right;\">\n",
       "      <th></th>\n",
       "      <th>gender</th>\n",
       "      <th>age</th>\n",
       "      <th>hypertension</th>\n",
       "      <th>heart_disease</th>\n",
       "      <th>ever_married</th>\n",
       "      <th>work_type</th>\n",
       "      <th>Residence_type</th>\n",
       "      <th>avg_glucose_level</th>\n",
       "      <th>bmi</th>\n",
       "      <th>smoking_status</th>\n",
       "      <th>stroke</th>\n",
       "    </tr>\n",
       "  </thead>\n",
       "  <tbody>\n",
       "    <tr>\n",
       "      <th>0</th>\n",
       "      <td>Female</td>\n",
       "      <td>61.0</td>\n",
       "      <td>0</td>\n",
       "      <td>0</td>\n",
       "      <td>Yes</td>\n",
       "      <td>Self-employed</td>\n",
       "      <td>Rural</td>\n",
       "      <td>202.21</td>\n",
       "      <td>31.6</td>\n",
       "      <td>never smoked</td>\n",
       "      <td>1</td>\n",
       "    </tr>\n",
       "    <tr>\n",
       "      <th>1</th>\n",
       "      <td>Female</td>\n",
       "      <td>59.0</td>\n",
       "      <td>0</td>\n",
       "      <td>0</td>\n",
       "      <td>Yes</td>\n",
       "      <td>Private</td>\n",
       "      <td>Rural</td>\n",
       "      <td>76.15</td>\n",
       "      <td>30.2</td>\n",
       "      <td>Unknown</td>\n",
       "      <td>1</td>\n",
       "    </tr>\n",
       "    <tr>\n",
       "      <th>2</th>\n",
       "      <td>Male</td>\n",
       "      <td>78.0</td>\n",
       "      <td>0</td>\n",
       "      <td>1</td>\n",
       "      <td>Yes</td>\n",
       "      <td>Private</td>\n",
       "      <td>Urban</td>\n",
       "      <td>219.84</td>\n",
       "      <td>30.7</td>\n",
       "      <td>Unknown</td>\n",
       "      <td>1</td>\n",
       "    </tr>\n",
       "    <tr>\n",
       "      <th>3</th>\n",
       "      <td>Male</td>\n",
       "      <td>57.0</td>\n",
       "      <td>0</td>\n",
       "      <td>1</td>\n",
       "      <td>No</td>\n",
       "      <td>Govt_job</td>\n",
       "      <td>Urban</td>\n",
       "      <td>217.08</td>\n",
       "      <td>33.8</td>\n",
       "      <td>Unknown</td>\n",
       "      <td>1</td>\n",
       "    </tr>\n",
       "    <tr>\n",
       "      <th>4</th>\n",
       "      <td>Male</td>\n",
       "      <td>58.0</td>\n",
       "      <td>0</td>\n",
       "      <td>0</td>\n",
       "      <td>Yes</td>\n",
       "      <td>Private</td>\n",
       "      <td>Rural</td>\n",
       "      <td>189.84</td>\n",
       "      <td>31.4</td>\n",
       "      <td>Unknown</td>\n",
       "      <td>1</td>\n",
       "    </tr>\n",
       "  </tbody>\n",
       "</table>\n",
       "</div>"
      ],
      "text/plain": [
       "   gender   age  hypertension  heart_disease ever_married      work_type  \\\n",
       "0  Female  61.0             0              0          Yes  Self-employed   \n",
       "1  Female  59.0             0              0          Yes        Private   \n",
       "2    Male  78.0             0              1          Yes        Private   \n",
       "3    Male  57.0             0              1           No       Govt_job   \n",
       "4    Male  58.0             0              0          Yes        Private   \n",
       "\n",
       "  Residence_type  avg_glucose_level   bmi smoking_status  stroke  \n",
       "0          Rural             202.21  31.6   never smoked       1  \n",
       "1          Rural              76.15  30.2        Unknown       1  \n",
       "2          Urban             219.84  30.7        Unknown       1  \n",
       "3          Urban             217.08  33.8        Unknown       1  \n",
       "4          Rural             189.84  31.4        Unknown       1  "
      ]
     },
     "execution_count": 38,
     "metadata": {},
     "output_type": "execute_result"
    }
   ],
   "source": [
    "#Please check the full filled dataset!\n",
    "new_dataset = pd.read_csv(\"../input/full-filled-brain-stroke-dataset/full_filled_stroke_data (1).csv\")\n",
    "new_dataset.bmi = new_dataset.bmi.apply(lambda x:np.round(x,1))\n",
    "new_dataset.head()"
   ]
  },
  {
   "cell_type": "code",
   "execution_count": null,
   "id": "3a18172c",
   "metadata": {
    "execution": {
     "iopub.execute_input": "2022-07-16T09:50:45.298307Z",
     "iopub.status.busy": "2022-07-16T09:50:45.297390Z",
     "iopub.status.idle": "2022-07-16T09:50:45.305577Z",
     "shell.execute_reply": "2022-07-16T09:50:45.304289Z",
     "shell.execute_reply.started": "2022-07-16T09:50:45.298263Z"
    },
    "papermill": {
     "duration": 0.011161,
     "end_time": "2022-07-16T10:08:39.908804",
     "exception": false,
     "start_time": "2022-07-16T10:08:39.897643",
     "status": "completed"
    },
    "tags": []
   },
   "outputs": [],
   "source": []
  },
  {
   "cell_type": "code",
   "execution_count": 39,
   "id": "85c8f11d",
   "metadata": {
    "execution": {
     "iopub.execute_input": "2022-07-16T10:08:39.933342Z",
     "iopub.status.busy": "2022-07-16T10:08:39.932763Z",
     "iopub.status.idle": "2022-07-16T10:08:39.952208Z",
     "shell.execute_reply": "2022-07-16T10:08:39.951316Z"
    },
    "papermill": {
     "duration": 0.034132,
     "end_time": "2022-07-16T10:08:39.954259",
     "exception": false,
     "start_time": "2022-07-16T10:08:39.920127",
     "status": "completed"
    },
    "tags": []
   },
   "outputs": [
    {
     "data": {
      "text/html": [
       "<div>\n",
       "<style scoped>\n",
       "    .dataframe tbody tr th:only-of-type {\n",
       "        vertical-align: middle;\n",
       "    }\n",
       "\n",
       "    .dataframe tbody tr th {\n",
       "        vertical-align: top;\n",
       "    }\n",
       "\n",
       "    .dataframe thead th {\n",
       "        text-align: right;\n",
       "    }\n",
       "</style>\n",
       "<table border=\"1\" class=\"dataframe\">\n",
       "  <thead>\n",
       "    <tr style=\"text-align: right;\">\n",
       "      <th></th>\n",
       "      <th>gender</th>\n",
       "      <th>age</th>\n",
       "      <th>hypertension</th>\n",
       "      <th>heart_disease</th>\n",
       "      <th>ever_married</th>\n",
       "      <th>work_type</th>\n",
       "      <th>Residence_type</th>\n",
       "      <th>avg_glucose_level</th>\n",
       "      <th>bmi</th>\n",
       "      <th>smoking_status</th>\n",
       "      <th>stroke</th>\n",
       "    </tr>\n",
       "  </thead>\n",
       "  <tbody>\n",
       "    <tr>\n",
       "      <th>0</th>\n",
       "      <td>Female</td>\n",
       "      <td>61.0</td>\n",
       "      <td>0</td>\n",
       "      <td>0</td>\n",
       "      <td>Yes</td>\n",
       "      <td>Self-employed</td>\n",
       "      <td>Rural</td>\n",
       "      <td>202.21</td>\n",
       "      <td>31.6</td>\n",
       "      <td>never smoked</td>\n",
       "      <td>1</td>\n",
       "    </tr>\n",
       "    <tr>\n",
       "      <th>1</th>\n",
       "      <td>Female</td>\n",
       "      <td>59.0</td>\n",
       "      <td>0</td>\n",
       "      <td>0</td>\n",
       "      <td>Yes</td>\n",
       "      <td>Private</td>\n",
       "      <td>Rural</td>\n",
       "      <td>76.15</td>\n",
       "      <td>30.2</td>\n",
       "      <td>Unknown</td>\n",
       "      <td>1</td>\n",
       "    </tr>\n",
       "    <tr>\n",
       "      <th>2</th>\n",
       "      <td>Male</td>\n",
       "      <td>78.0</td>\n",
       "      <td>0</td>\n",
       "      <td>1</td>\n",
       "      <td>Yes</td>\n",
       "      <td>Private</td>\n",
       "      <td>Urban</td>\n",
       "      <td>219.84</td>\n",
       "      <td>30.7</td>\n",
       "      <td>Unknown</td>\n",
       "      <td>1</td>\n",
       "    </tr>\n",
       "    <tr>\n",
       "      <th>3</th>\n",
       "      <td>Male</td>\n",
       "      <td>57.0</td>\n",
       "      <td>0</td>\n",
       "      <td>1</td>\n",
       "      <td>No</td>\n",
       "      <td>Govt_job</td>\n",
       "      <td>Urban</td>\n",
       "      <td>217.08</td>\n",
       "      <td>33.8</td>\n",
       "      <td>Unknown</td>\n",
       "      <td>1</td>\n",
       "    </tr>\n",
       "    <tr>\n",
       "      <th>4</th>\n",
       "      <td>Male</td>\n",
       "      <td>58.0</td>\n",
       "      <td>0</td>\n",
       "      <td>0</td>\n",
       "      <td>Yes</td>\n",
       "      <td>Private</td>\n",
       "      <td>Rural</td>\n",
       "      <td>189.84</td>\n",
       "      <td>31.4</td>\n",
       "      <td>Unknown</td>\n",
       "      <td>1</td>\n",
       "    </tr>\n",
       "    <tr>\n",
       "      <th>...</th>\n",
       "      <td>...</td>\n",
       "      <td>...</td>\n",
       "      <td>...</td>\n",
       "      <td>...</td>\n",
       "      <td>...</td>\n",
       "      <td>...</td>\n",
       "      <td>...</td>\n",
       "      <td>...</td>\n",
       "      <td>...</td>\n",
       "      <td>...</td>\n",
       "      <td>...</td>\n",
       "    </tr>\n",
       "    <tr>\n",
       "      <th>196</th>\n",
       "      <td>Male</td>\n",
       "      <td>41.0</td>\n",
       "      <td>0</td>\n",
       "      <td>0</td>\n",
       "      <td>No</td>\n",
       "      <td>Private</td>\n",
       "      <td>Rural</td>\n",
       "      <td>70.15</td>\n",
       "      <td>29.8</td>\n",
       "      <td>formerly smoked</td>\n",
       "      <td>0</td>\n",
       "    </tr>\n",
       "    <tr>\n",
       "      <th>197</th>\n",
       "      <td>Male</td>\n",
       "      <td>40.0</td>\n",
       "      <td>0</td>\n",
       "      <td>0</td>\n",
       "      <td>Yes</td>\n",
       "      <td>Private</td>\n",
       "      <td>Urban</td>\n",
       "      <td>191.15</td>\n",
       "      <td>31.1</td>\n",
       "      <td>smokes</td>\n",
       "      <td>0</td>\n",
       "    </tr>\n",
       "    <tr>\n",
       "      <th>198</th>\n",
       "      <td>Female</td>\n",
       "      <td>45.0</td>\n",
       "      <td>1</td>\n",
       "      <td>0</td>\n",
       "      <td>Yes</td>\n",
       "      <td>Govt_job</td>\n",
       "      <td>Rural</td>\n",
       "      <td>95.02</td>\n",
       "      <td>31.8</td>\n",
       "      <td>smokes</td>\n",
       "      <td>0</td>\n",
       "    </tr>\n",
       "    <tr>\n",
       "      <th>199</th>\n",
       "      <td>Male</td>\n",
       "      <td>40.0</td>\n",
       "      <td>0</td>\n",
       "      <td>0</td>\n",
       "      <td>Yes</td>\n",
       "      <td>Private</td>\n",
       "      <td>Rural</td>\n",
       "      <td>83.94</td>\n",
       "      <td>30.0</td>\n",
       "      <td>smokes</td>\n",
       "      <td>0</td>\n",
       "    </tr>\n",
       "    <tr>\n",
       "      <th>200</th>\n",
       "      <td>Female</td>\n",
       "      <td>80.0</td>\n",
       "      <td>1</td>\n",
       "      <td>0</td>\n",
       "      <td>Yes</td>\n",
       "      <td>Private</td>\n",
       "      <td>Urban</td>\n",
       "      <td>83.75</td>\n",
       "      <td>29.1</td>\n",
       "      <td>never smoked</td>\n",
       "      <td>0</td>\n",
       "    </tr>\n",
       "  </tbody>\n",
       "</table>\n",
       "<p>201 rows × 11 columns</p>\n",
       "</div>"
      ],
      "text/plain": [
       "     gender   age  hypertension  heart_disease ever_married      work_type  \\\n",
       "0    Female  61.0             0              0          Yes  Self-employed   \n",
       "1    Female  59.0             0              0          Yes        Private   \n",
       "2      Male  78.0             0              1          Yes        Private   \n",
       "3      Male  57.0             0              1           No       Govt_job   \n",
       "4      Male  58.0             0              0          Yes        Private   \n",
       "..      ...   ...           ...            ...          ...            ...   \n",
       "196    Male  41.0             0              0           No        Private   \n",
       "197    Male  40.0             0              0          Yes        Private   \n",
       "198  Female  45.0             1              0          Yes       Govt_job   \n",
       "199    Male  40.0             0              0          Yes        Private   \n",
       "200  Female  80.0             1              0          Yes        Private   \n",
       "\n",
       "    Residence_type  avg_glucose_level   bmi   smoking_status  stroke  \n",
       "0            Rural             202.21  31.6     never smoked       1  \n",
       "1            Rural              76.15  30.2          Unknown       1  \n",
       "2            Urban             219.84  30.7          Unknown       1  \n",
       "3            Urban             217.08  33.8          Unknown       1  \n",
       "4            Rural             189.84  31.4          Unknown       1  \n",
       "..             ...                ...   ...              ...     ...  \n",
       "196          Rural              70.15  29.8  formerly smoked       0  \n",
       "197          Urban             191.15  31.1           smokes       0  \n",
       "198          Rural              95.02  31.8           smokes       0  \n",
       "199          Rural              83.94  30.0           smokes       0  \n",
       "200          Urban              83.75  29.1     never smoked       0  \n",
       "\n",
       "[201 rows x 11 columns]"
      ]
     },
     "execution_count": 39,
     "metadata": {},
     "output_type": "execute_result"
    }
   ],
   "source": [
    "new_dataset"
   ]
  },
  {
   "cell_type": "code",
   "execution_count": 40,
   "id": "6c00740a",
   "metadata": {
    "execution": {
     "iopub.execute_input": "2022-07-16T10:08:39.980071Z",
     "iopub.status.busy": "2022-07-16T10:08:39.979508Z",
     "iopub.status.idle": "2022-07-16T10:08:39.996577Z",
     "shell.execute_reply": "2022-07-16T10:08:39.995528Z"
    },
    "papermill": {
     "duration": 0.032683,
     "end_time": "2022-07-16T10:08:39.998720",
     "exception": false,
     "start_time": "2022-07-16T10:08:39.966037",
     "status": "completed"
    },
    "tags": []
   },
   "outputs": [
    {
     "data": {
      "text/html": [
       "<div>\n",
       "<style scoped>\n",
       "    .dataframe tbody tr th:only-of-type {\n",
       "        vertical-align: middle;\n",
       "    }\n",
       "\n",
       "    .dataframe tbody tr th {\n",
       "        vertical-align: top;\n",
       "    }\n",
       "\n",
       "    .dataframe thead th {\n",
       "        text-align: right;\n",
       "    }\n",
       "</style>\n",
       "<table border=\"1\" class=\"dataframe\">\n",
       "  <thead>\n",
       "    <tr style=\"text-align: right;\">\n",
       "      <th></th>\n",
       "      <th>gender</th>\n",
       "      <th>age</th>\n",
       "      <th>hypertension</th>\n",
       "      <th>heart_disease</th>\n",
       "      <th>ever_married</th>\n",
       "      <th>work_type</th>\n",
       "      <th>Residence_type</th>\n",
       "      <th>avg_glucose_level</th>\n",
       "      <th>bmi</th>\n",
       "      <th>smoking_status</th>\n",
       "      <th>stroke</th>\n",
       "    </tr>\n",
       "  </thead>\n",
       "  <tbody>\n",
       "    <tr>\n",
       "      <th>0</th>\n",
       "      <td>Male</td>\n",
       "      <td>67.0</td>\n",
       "      <td>0</td>\n",
       "      <td>1</td>\n",
       "      <td>Yes</td>\n",
       "      <td>Private</td>\n",
       "      <td>Urban</td>\n",
       "      <td>228.69</td>\n",
       "      <td>36.6</td>\n",
       "      <td>formerly smoked</td>\n",
       "      <td>1</td>\n",
       "    </tr>\n",
       "    <tr>\n",
       "      <th>1</th>\n",
       "      <td>Male</td>\n",
       "      <td>80.0</td>\n",
       "      <td>0</td>\n",
       "      <td>1</td>\n",
       "      <td>Yes</td>\n",
       "      <td>Private</td>\n",
       "      <td>Rural</td>\n",
       "      <td>105.92</td>\n",
       "      <td>32.5</td>\n",
       "      <td>never smoked</td>\n",
       "      <td>1</td>\n",
       "    </tr>\n",
       "    <tr>\n",
       "      <th>2</th>\n",
       "      <td>Female</td>\n",
       "      <td>49.0</td>\n",
       "      <td>0</td>\n",
       "      <td>0</td>\n",
       "      <td>Yes</td>\n",
       "      <td>Private</td>\n",
       "      <td>Urban</td>\n",
       "      <td>171.23</td>\n",
       "      <td>34.4</td>\n",
       "      <td>smokes</td>\n",
       "      <td>1</td>\n",
       "    </tr>\n",
       "    <tr>\n",
       "      <th>3</th>\n",
       "      <td>Female</td>\n",
       "      <td>79.0</td>\n",
       "      <td>1</td>\n",
       "      <td>0</td>\n",
       "      <td>Yes</td>\n",
       "      <td>Self-employed</td>\n",
       "      <td>Rural</td>\n",
       "      <td>174.12</td>\n",
       "      <td>24.0</td>\n",
       "      <td>never smoked</td>\n",
       "      <td>1</td>\n",
       "    </tr>\n",
       "    <tr>\n",
       "      <th>4</th>\n",
       "      <td>Male</td>\n",
       "      <td>81.0</td>\n",
       "      <td>0</td>\n",
       "      <td>0</td>\n",
       "      <td>Yes</td>\n",
       "      <td>Private</td>\n",
       "      <td>Urban</td>\n",
       "      <td>186.21</td>\n",
       "      <td>29.0</td>\n",
       "      <td>formerly smoked</td>\n",
       "      <td>1</td>\n",
       "    </tr>\n",
       "  </tbody>\n",
       "</table>\n",
       "</div>"
      ],
      "text/plain": [
       "   gender   age  hypertension  heart_disease ever_married      work_type  \\\n",
       "0    Male  67.0             0              1          Yes        Private   \n",
       "1    Male  80.0             0              1          Yes        Private   \n",
       "2  Female  49.0             0              0          Yes        Private   \n",
       "3  Female  79.0             1              0          Yes  Self-employed   \n",
       "4    Male  81.0             0              0          Yes        Private   \n",
       "\n",
       "  Residence_type  avg_glucose_level   bmi   smoking_status  stroke  \n",
       "0          Urban             228.69  36.6  formerly smoked       1  \n",
       "1          Rural             105.92  32.5     never smoked       1  \n",
       "2          Urban             171.23  34.4           smokes       1  \n",
       "3          Rural             174.12  24.0     never smoked       1  \n",
       "4          Urban             186.21  29.0  formerly smoked       1  "
      ]
     },
     "execution_count": 40,
     "metadata": {},
     "output_type": "execute_result"
    }
   ],
   "source": [
    "#Let's concatenate to dataframes\n",
    "\n",
    "X[\"bmi\"] = y\n",
    "X = X [['gender', 'age', 'hypertension', 'heart_disease', 'ever_married',\n",
    "       'work_type', 'Residence_type', 'avg_glucose_level', 'bmi',\n",
    "       'smoking_status', 'stroke']].reset_index(drop=\"index\")\n",
    "X.head()"
   ]
  },
  {
   "cell_type": "code",
   "execution_count": 41,
   "id": "39b1fdcb",
   "metadata": {
    "execution": {
     "iopub.execute_input": "2022-07-16T10:08:40.025113Z",
     "iopub.status.busy": "2022-07-16T10:08:40.024552Z",
     "iopub.status.idle": "2022-07-16T10:08:40.054080Z",
     "shell.execute_reply": "2022-07-16T10:08:40.053329Z"
    },
    "papermill": {
     "duration": 0.04533,
     "end_time": "2022-07-16T10:08:40.056309",
     "exception": false,
     "start_time": "2022-07-16T10:08:40.010979",
     "status": "completed"
    },
    "tags": []
   },
   "outputs": [
    {
     "name": "stdout",
     "output_type": "stream",
     "text": [
      "<class 'pandas.core.frame.DataFrame'>\n",
      "RangeIndex: 4981 entries, 0 to 4980\n",
      "Data columns (total 11 columns):\n",
      " #   Column             Non-Null Count  Dtype  \n",
      "---  ------             --------------  -----  \n",
      " 0   gender             4981 non-null   object \n",
      " 1   age                4981 non-null   float64\n",
      " 2   hypertension       4981 non-null   int64  \n",
      " 3   heart_disease      4981 non-null   int64  \n",
      " 4   ever_married       4981 non-null   object \n",
      " 5   work_type          4981 non-null   object \n",
      " 6   Residence_type     4981 non-null   object \n",
      " 7   avg_glucose_level  4981 non-null   float64\n",
      " 8   bmi                4981 non-null   float64\n",
      " 9   smoking_status     4981 non-null   object \n",
      " 10  stroke             4981 non-null   int64  \n",
      "dtypes: float64(3), int64(3), object(5)\n",
      "memory usage: 428.2+ KB\n",
      "None\n"
     ]
    },
    {
     "data": {
      "text/html": [
       "<div>\n",
       "<style scoped>\n",
       "    .dataframe tbody tr th:only-of-type {\n",
       "        vertical-align: middle;\n",
       "    }\n",
       "\n",
       "    .dataframe tbody tr th {\n",
       "        vertical-align: top;\n",
       "    }\n",
       "\n",
       "    .dataframe thead th {\n",
       "        text-align: right;\n",
       "    }\n",
       "</style>\n",
       "<table border=\"1\" class=\"dataframe\">\n",
       "  <thead>\n",
       "    <tr style=\"text-align: right;\">\n",
       "      <th></th>\n",
       "      <th>gender</th>\n",
       "      <th>age</th>\n",
       "      <th>hypertension</th>\n",
       "      <th>heart_disease</th>\n",
       "      <th>ever_married</th>\n",
       "      <th>work_type</th>\n",
       "      <th>Residence_type</th>\n",
       "      <th>avg_glucose_level</th>\n",
       "      <th>bmi</th>\n",
       "      <th>smoking_status</th>\n",
       "      <th>stroke</th>\n",
       "    </tr>\n",
       "  </thead>\n",
       "  <tbody>\n",
       "    <tr>\n",
       "      <th>0</th>\n",
       "      <td>Male</td>\n",
       "      <td>67.0</td>\n",
       "      <td>0</td>\n",
       "      <td>1</td>\n",
       "      <td>Yes</td>\n",
       "      <td>Private</td>\n",
       "      <td>Urban</td>\n",
       "      <td>228.69</td>\n",
       "      <td>36.6</td>\n",
       "      <td>formerly smoked</td>\n",
       "      <td>1</td>\n",
       "    </tr>\n",
       "    <tr>\n",
       "      <th>1</th>\n",
       "      <td>Male</td>\n",
       "      <td>80.0</td>\n",
       "      <td>0</td>\n",
       "      <td>1</td>\n",
       "      <td>Yes</td>\n",
       "      <td>Private</td>\n",
       "      <td>Rural</td>\n",
       "      <td>105.92</td>\n",
       "      <td>32.5</td>\n",
       "      <td>never smoked</td>\n",
       "      <td>1</td>\n",
       "    </tr>\n",
       "    <tr>\n",
       "      <th>2</th>\n",
       "      <td>Female</td>\n",
       "      <td>49.0</td>\n",
       "      <td>0</td>\n",
       "      <td>0</td>\n",
       "      <td>Yes</td>\n",
       "      <td>Private</td>\n",
       "      <td>Urban</td>\n",
       "      <td>171.23</td>\n",
       "      <td>34.4</td>\n",
       "      <td>smokes</td>\n",
       "      <td>1</td>\n",
       "    </tr>\n",
       "    <tr>\n",
       "      <th>3</th>\n",
       "      <td>Female</td>\n",
       "      <td>79.0</td>\n",
       "      <td>1</td>\n",
       "      <td>0</td>\n",
       "      <td>Yes</td>\n",
       "      <td>Self-employed</td>\n",
       "      <td>Rural</td>\n",
       "      <td>174.12</td>\n",
       "      <td>24.0</td>\n",
       "      <td>never smoked</td>\n",
       "      <td>1</td>\n",
       "    </tr>\n",
       "    <tr>\n",
       "      <th>4</th>\n",
       "      <td>Male</td>\n",
       "      <td>81.0</td>\n",
       "      <td>0</td>\n",
       "      <td>0</td>\n",
       "      <td>Yes</td>\n",
       "      <td>Private</td>\n",
       "      <td>Urban</td>\n",
       "      <td>186.21</td>\n",
       "      <td>29.0</td>\n",
       "      <td>formerly smoked</td>\n",
       "      <td>1</td>\n",
       "    </tr>\n",
       "  </tbody>\n",
       "</table>\n",
       "</div>"
      ],
      "text/plain": [
       "   gender   age  hypertension  heart_disease ever_married      work_type  \\\n",
       "0    Male  67.0             0              1          Yes        Private   \n",
       "1    Male  80.0             0              1          Yes        Private   \n",
       "2  Female  49.0             0              0          Yes        Private   \n",
       "3  Female  79.0             1              0          Yes  Self-employed   \n",
       "4    Male  81.0             0              0          Yes        Private   \n",
       "\n",
       "  Residence_type  avg_glucose_level   bmi   smoking_status  stroke  \n",
       "0          Urban             228.69  36.6  formerly smoked       1  \n",
       "1          Rural             105.92  32.5     never smoked       1  \n",
       "2          Urban             171.23  34.4           smokes       1  \n",
       "3          Rural             174.12  24.0     never smoked       1  \n",
       "4          Urban             186.21  29.0  formerly smoked       1  "
      ]
     },
     "execution_count": 41,
     "metadata": {},
     "output_type": "execute_result"
    }
   ],
   "source": [
    "dataset = pd.concat([X,new_dataset]).reset_index(drop=\"index\")\n",
    "print(dataset.info())\n",
    "dataset.head()"
   ]
  },
  {
   "cell_type": "code",
   "execution_count": 42,
   "id": "39fd08df",
   "metadata": {
    "execution": {
     "iopub.execute_input": "2022-07-16T10:08:40.082434Z",
     "iopub.status.busy": "2022-07-16T10:08:40.081849Z",
     "iopub.status.idle": "2022-07-16T10:08:40.108942Z",
     "shell.execute_reply": "2022-07-16T10:08:40.108003Z"
    },
    "papermill": {
     "duration": 0.043089,
     "end_time": "2022-07-16T10:08:40.111543",
     "exception": false,
     "start_time": "2022-07-16T10:08:40.068454",
     "status": "completed"
    },
    "tags": []
   },
   "outputs": [],
   "source": [
    "dataset.to_csv(\"/kaggle/working/full_data.csv\",index=False , header = 1)"
   ]
  },
  {
   "cell_type": "markdown",
   "id": "1c7737fd",
   "metadata": {
    "papermill": {
     "duration": 0.01185,
     "end_time": "2022-07-16T10:08:40.135591",
     "exception": false,
     "start_time": "2022-07-16T10:08:40.123741",
     "status": "completed"
    },
    "tags": []
   },
   "source": [
    "![](https://ftw.usatoday.com/wp-content/uploads/sites/90/2017/02/shaq.jpg?w=1024&h=576&crop=1)"
   ]
  },
  {
   "cell_type": "code",
   "execution_count": null,
   "id": "a0f05375",
   "metadata": {
    "papermill": {
     "duration": 0.012309,
     "end_time": "2022-07-16T10:08:40.160036",
     "exception": false,
     "start_time": "2022-07-16T10:08:40.147727",
     "status": "completed"
    },
    "tags": []
   },
   "outputs": [],
   "source": []
  }
 ],
 "metadata": {
  "kernelspec": {
   "display_name": "Python 3",
   "language": "python",
   "name": "python3"
  },
  "language_info": {
   "codemirror_mode": {
    "name": "ipython",
    "version": 3
   },
   "file_extension": ".py",
   "mimetype": "text/x-python",
   "name": "python",
   "nbconvert_exporter": "python",
   "pygments_lexer": "ipython3",
   "version": "3.7.12"
  },
  "papermill": {
   "default_parameters": {},
   "duration": 12.885938,
   "end_time": "2022-07-16T10:08:40.894922",
   "environment_variables": {},
   "exception": null,
   "input_path": "__notebook__.ipynb",
   "output_path": "__notebook__.ipynb",
   "parameters": {},
   "start_time": "2022-07-16T10:08:28.008984",
   "version": "2.3.4"
  }
 },
 "nbformat": 4,
 "nbformat_minor": 5
}
